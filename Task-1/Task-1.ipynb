{
 "cells": [
  {
   "cell_type": "markdown",
   "id": "08826acd",
   "metadata": {},
   "source": [
    "### 🔍 1. Initial Exploration\n",
    "- Load the dataset into a **pandas DataFrame**.\n",
    "- Use the following methods to explore:\n",
    "  - `.info()`  \n",
    "  - `.describe()`  \n",
    "  - `.head()`  \n",
    "  - `.isnull().sum()`\n",
    "- Get an overview of:\n",
    "  - ✅ Data types  \n",
    "  - ✅ Missing values  \n",
    "  - ✅ Row counts\n"
   ]
  },
  {
   "cell_type": "code",
   "execution_count": 1,
   "id": "8289c7c3",
   "metadata": {},
   "outputs": [],
   "source": [
    "# Install dependencies as needed:\n",
    "# pip install kagglehub[pandas-datasets]\n",
    "import numpy as np\n",
    "import pandas as pd\n",
    "import warnings\n",
    "warnings.filterwarnings('ignore')\n",
    "df = pd.read_csv('dirty_cafe_sales.csv')"
   ]
  },
  {
   "cell_type": "code",
   "execution_count": 2,
   "id": "55daea97",
   "metadata": {},
   "outputs": [
    {
     "name": "stdout",
     "output_type": "stream",
     "text": [
      "Dataset shape: (10000, 8)\n",
      "\n",
      "Column names:\n",
      "['Transaction ID', 'Item', 'Quantity', 'Price Per Unit', 'Total Spent', 'Payment Method', 'Location', 'Transaction Date']\n",
      "\n",
      "First few rows:\n"
     ]
    },
    {
     "data": {
      "text/html": [
       "<div>\n",
       "<style scoped>\n",
       "    .dataframe tbody tr th:only-of-type {\n",
       "        vertical-align: middle;\n",
       "    }\n",
       "\n",
       "    .dataframe tbody tr th {\n",
       "        vertical-align: top;\n",
       "    }\n",
       "\n",
       "    .dataframe thead th {\n",
       "        text-align: right;\n",
       "    }\n",
       "</style>\n",
       "<table border=\"1\" class=\"dataframe\">\n",
       "  <thead>\n",
       "    <tr style=\"text-align: right;\">\n",
       "      <th></th>\n",
       "      <th>Transaction ID</th>\n",
       "      <th>Item</th>\n",
       "      <th>Quantity</th>\n",
       "      <th>Price Per Unit</th>\n",
       "      <th>Total Spent</th>\n",
       "      <th>Payment Method</th>\n",
       "      <th>Location</th>\n",
       "      <th>Transaction Date</th>\n",
       "    </tr>\n",
       "  </thead>\n",
       "  <tbody>\n",
       "    <tr>\n",
       "      <th>0</th>\n",
       "      <td>TXN_1961373</td>\n",
       "      <td>Coffee</td>\n",
       "      <td>2</td>\n",
       "      <td>2.0</td>\n",
       "      <td>4.0</td>\n",
       "      <td>Credit Card</td>\n",
       "      <td>Takeaway</td>\n",
       "      <td>2023-09-08</td>\n",
       "    </tr>\n",
       "    <tr>\n",
       "      <th>1</th>\n",
       "      <td>TXN_4977031</td>\n",
       "      <td>Cake</td>\n",
       "      <td>4</td>\n",
       "      <td>3.0</td>\n",
       "      <td>12.0</td>\n",
       "      <td>Cash</td>\n",
       "      <td>In-store</td>\n",
       "      <td>2023-05-16</td>\n",
       "    </tr>\n",
       "    <tr>\n",
       "      <th>2</th>\n",
       "      <td>TXN_4271903</td>\n",
       "      <td>Cookie</td>\n",
       "      <td>4</td>\n",
       "      <td>1.0</td>\n",
       "      <td>ERROR</td>\n",
       "      <td>Credit Card</td>\n",
       "      <td>In-store</td>\n",
       "      <td>2023-07-19</td>\n",
       "    </tr>\n",
       "    <tr>\n",
       "      <th>3</th>\n",
       "      <td>TXN_7034554</td>\n",
       "      <td>Salad</td>\n",
       "      <td>2</td>\n",
       "      <td>5.0</td>\n",
       "      <td>10.0</td>\n",
       "      <td>UNKNOWN</td>\n",
       "      <td>UNKNOWN</td>\n",
       "      <td>2023-04-27</td>\n",
       "    </tr>\n",
       "    <tr>\n",
       "      <th>4</th>\n",
       "      <td>TXN_3160411</td>\n",
       "      <td>Coffee</td>\n",
       "      <td>2</td>\n",
       "      <td>2.0</td>\n",
       "      <td>4.0</td>\n",
       "      <td>Digital Wallet</td>\n",
       "      <td>In-store</td>\n",
       "      <td>2023-06-11</td>\n",
       "    </tr>\n",
       "  </tbody>\n",
       "</table>\n",
       "</div>"
      ],
      "text/plain": [
       "  Transaction ID    Item Quantity Price Per Unit Total Spent  Payment Method  \\\n",
       "0    TXN_1961373  Coffee        2            2.0         4.0     Credit Card   \n",
       "1    TXN_4977031    Cake        4            3.0        12.0            Cash   \n",
       "2    TXN_4271903  Cookie        4            1.0       ERROR     Credit Card   \n",
       "3    TXN_7034554   Salad        2            5.0        10.0         UNKNOWN   \n",
       "4    TXN_3160411  Coffee        2            2.0         4.0  Digital Wallet   \n",
       "\n",
       "   Location Transaction Date  \n",
       "0  Takeaway       2023-09-08  \n",
       "1  In-store       2023-05-16  \n",
       "2  In-store       2023-07-19  \n",
       "3   UNKNOWN       2023-04-27  \n",
       "4  In-store       2023-06-11  "
      ]
     },
     "execution_count": 2,
     "metadata": {},
     "output_type": "execute_result"
    }
   ],
   "source": [
    "# Display basic information about the DataFrame\n",
    "print(\"Dataset shape:\", df.shape)\n",
    "print(\"\\nColumn names:\")\n",
    "print(df.columns.tolist())\n",
    "print(\"\\nFirst few rows:\")\n",
    "df.head()"
   ]
  },
  {
   "cell_type": "code",
   "execution_count": 3,
   "id": "62d39126",
   "metadata": {},
   "outputs": [
    {
     "name": "stdout",
     "output_type": "stream",
     "text": [
      "<class 'pandas.core.frame.DataFrame'>\n",
      "RangeIndex: 10000 entries, 0 to 9999\n",
      "Data columns (total 8 columns):\n",
      " #   Column            Non-Null Count  Dtype \n",
      "---  ------            --------------  ----- \n",
      " 0   Transaction ID    10000 non-null  object\n",
      " 1   Item              9667 non-null   object\n",
      " 2   Quantity          9862 non-null   object\n",
      " 3   Price Per Unit    9821 non-null   object\n",
      " 4   Total Spent       9827 non-null   object\n",
      " 5   Payment Method    7421 non-null   object\n",
      " 6   Location          6735 non-null   object\n",
      " 7   Transaction Date  9841 non-null   object\n",
      "dtypes: object(8)\n",
      "memory usage: 625.1+ KB\n"
     ]
    }
   ],
   "source": [
    "df.info()"
   ]
  },
  {
   "cell_type": "code",
   "execution_count": 4,
   "id": "f99f4669",
   "metadata": {},
   "outputs": [
    {
     "data": {
      "text/html": [
       "<div>\n",
       "<style scoped>\n",
       "    .dataframe tbody tr th:only-of-type {\n",
       "        vertical-align: middle;\n",
       "    }\n",
       "\n",
       "    .dataframe tbody tr th {\n",
       "        vertical-align: top;\n",
       "    }\n",
       "\n",
       "    .dataframe thead th {\n",
       "        text-align: right;\n",
       "    }\n",
       "</style>\n",
       "<table border=\"1\" class=\"dataframe\">\n",
       "  <thead>\n",
       "    <tr style=\"text-align: right;\">\n",
       "      <th></th>\n",
       "      <th>Transaction ID</th>\n",
       "      <th>Item</th>\n",
       "      <th>Quantity</th>\n",
       "      <th>Price Per Unit</th>\n",
       "      <th>Total Spent</th>\n",
       "      <th>Payment Method</th>\n",
       "      <th>Location</th>\n",
       "      <th>Transaction Date</th>\n",
       "    </tr>\n",
       "  </thead>\n",
       "  <tbody>\n",
       "    <tr>\n",
       "      <th>count</th>\n",
       "      <td>10000</td>\n",
       "      <td>9667</td>\n",
       "      <td>9862</td>\n",
       "      <td>9821</td>\n",
       "      <td>9827</td>\n",
       "      <td>7421</td>\n",
       "      <td>6735</td>\n",
       "      <td>9841</td>\n",
       "    </tr>\n",
       "    <tr>\n",
       "      <th>unique</th>\n",
       "      <td>10000</td>\n",
       "      <td>10</td>\n",
       "      <td>7</td>\n",
       "      <td>8</td>\n",
       "      <td>19</td>\n",
       "      <td>5</td>\n",
       "      <td>4</td>\n",
       "      <td>367</td>\n",
       "    </tr>\n",
       "    <tr>\n",
       "      <th>top</th>\n",
       "      <td>TXN_1961373</td>\n",
       "      <td>Juice</td>\n",
       "      <td>5</td>\n",
       "      <td>3.0</td>\n",
       "      <td>6.0</td>\n",
       "      <td>Digital Wallet</td>\n",
       "      <td>Takeaway</td>\n",
       "      <td>UNKNOWN</td>\n",
       "    </tr>\n",
       "    <tr>\n",
       "      <th>freq</th>\n",
       "      <td>1</td>\n",
       "      <td>1171</td>\n",
       "      <td>2013</td>\n",
       "      <td>2429</td>\n",
       "      <td>979</td>\n",
       "      <td>2291</td>\n",
       "      <td>3022</td>\n",
       "      <td>159</td>\n",
       "    </tr>\n",
       "  </tbody>\n",
       "</table>\n",
       "</div>"
      ],
      "text/plain": [
       "       Transaction ID   Item Quantity Price Per Unit Total Spent  \\\n",
       "count           10000   9667     9862           9821        9827   \n",
       "unique          10000     10        7              8          19   \n",
       "top       TXN_1961373  Juice        5            3.0         6.0   \n",
       "freq                1   1171     2013           2429         979   \n",
       "\n",
       "        Payment Method  Location Transaction Date  \n",
       "count             7421      6735             9841  \n",
       "unique               5         4              367  \n",
       "top     Digital Wallet  Takeaway          UNKNOWN  \n",
       "freq              2291      3022              159  "
      ]
     },
     "execution_count": 4,
     "metadata": {},
     "output_type": "execute_result"
    }
   ],
   "source": [
    "df.describe()"
   ]
  },
  {
   "cell_type": "code",
   "execution_count": 5,
   "id": "8c631f5b",
   "metadata": {},
   "outputs": [
    {
     "data": {
      "text/plain": [
       "Transaction ID         0\n",
       "Item                 333\n",
       "Quantity             138\n",
       "Price Per Unit       179\n",
       "Total Spent          173\n",
       "Payment Method      2579\n",
       "Location            3265\n",
       "Transaction Date     159\n",
       "dtype: int64"
      ]
     },
     "execution_count": 5,
     "metadata": {},
     "output_type": "execute_result"
    }
   ],
   "source": [
    "df.isnull().sum()"
   ]
  },
  {
   "cell_type": "markdown",
   "id": "ce60b304",
   "metadata": {},
   "source": [
    "### 🧹 2. Handle Missing or Placeholder Entries\n",
    "Identify columns with missing values or placeholders like `\"ERROR\"`, `\"UNKNOWN\"`:\n",
    "- **Item**\n",
    "- **Quantity**\n",
    "- **Price Per Unit**\n",
    "- **Total Spent**\n",
    "- **Payment Method**\n",
    "- **Location**\n",
    "- **Transaction Date**\n",
    "\n",
    "🔧 Replace `\"ERROR\"` and `\"UNKNOWN\"` with **NaN**  \n",
    "➡️ Then decide: **fill or drop** based on context."
   ]
  },
  {
   "cell_type": "code",
   "execution_count": 6,
   "id": "d844f477",
   "metadata": {},
   "outputs": [],
   "source": [
    "df.replace([\"ERROR\", \"UNKNOWN\"], pd.NA, inplace=True)"
   ]
  },
  {
   "cell_type": "code",
   "execution_count": 7,
   "id": "d1bf966c",
   "metadata": {},
   "outputs": [
    {
     "data": {
      "text/plain": [
       "Transaction ID         0\n",
       "Item                 969\n",
       "Quantity             479\n",
       "Price Per Unit       533\n",
       "Total Spent          502\n",
       "Payment Method      3178\n",
       "Location            3961\n",
       "Transaction Date     460\n",
       "dtype: int64"
      ]
     },
     "execution_count": 7,
     "metadata": {},
     "output_type": "execute_result"
    }
   ],
   "source": [
    "df.isnull().sum()"
   ]
  },
  {
   "cell_type": "code",
   "execution_count": 8,
   "id": "b661858a",
   "metadata": {},
   "outputs": [
    {
     "data": {
      "text/plain": [
       "Location            0.3961\n",
       "Payment Method      0.3178\n",
       "Item                0.0969\n",
       "Price Per Unit      0.0533\n",
       "Total Spent         0.0502\n",
       "Quantity            0.0479\n",
       "Transaction Date    0.0460\n",
       "Transaction ID      0.0000\n",
       "dtype: float64"
      ]
     },
     "execution_count": 8,
     "metadata": {},
     "output_type": "execute_result"
    }
   ],
   "source": [
    "df.isna().mean().sort_values(ascending=False)"
   ]
  },
  {
   "cell_type": "markdown",
   "id": "17f966b0",
   "metadata": {},
   "source": [
    "### 🔢 3. Impute Logical Relationships\n",
    "Use the formula:  \n",
    "**Total Spent = Quantity × Price Per Unit**\n",
    "\n",
    "Back-calculate missing values:\n",
    "- **Price Per Unit = Total Spent / Quantity**\n",
    "- **Quantity = Total Spent / Price Per Unit**  \n",
    "  (or infer from average price per item group)\n",
    "\n",
    "✅ Fill missing values using logic  \n",
    "🗑️ Drop remaining rows with critical missing data if needed"
   ]
  },
  {
   "cell_type": "code",
   "execution_count": 9,
   "id": "f01dd667",
   "metadata": {},
   "outputs": [],
   "source": [
    "# Convert 'Total Spent', 'Quantity', and 'Price Per Unit' columns to numeric types, coercing errors to NaN\n",
    "df['Total Spent'] = pd.to_numeric(df['Total Spent'], errors='coerce')\n",
    "df['Quantity'] = pd.to_numeric(df['Quantity'], errors='coerce')\n",
    "df['Price Per Unit'] = pd.to_numeric(df['Price Per Unit'], errors='coerce')"
   ]
  },
  {
   "cell_type": "code",
   "execution_count": 10,
   "id": "cf8d871e",
   "metadata": {},
   "outputs": [
    {
     "name": "stdout",
     "output_type": "stream",
     "text": [
      "STEP 3: Impute Missing Values Using Logical Relationships \n",
      "Imputed 502 missing 'Total Spent' values.\n",
      "Imputed 533 missing 'Price Per Unit' values.\n",
      "Imputed 479 missing 'Quantity' values.\n"
     ]
    }
   ],
   "source": [
    "print(\"STEP 3: Impute Missing Values Using Logical Relationships \")\n",
    "\n",
    "# Impute missing Total Spent\n",
    "missing_total_spent = df['Total Spent'].isnull().sum()\n",
    "df['Total Spent'] = df['Total Spent'].fillna(\n",
    "    df['Quantity'] * df['Price Per Unit']\n",
    ")\n",
    "print(f\"Imputed {missing_total_spent} missing 'Total Spent' values.\")\n",
    "\n",
    "# Impute missing Price Per Unit\n",
    "missing_price_per_unit = df['Price Per Unit'].isnull().sum()\n",
    "df['Price Per Unit'] = df['Price Per Unit'].fillna(\n",
    "    df['Total Spent'] / df['Quantity']\n",
    ")\n",
    "print(f\"Imputed {missing_price_per_unit} missing 'Price Per Unit' values.\")\n",
    "\n",
    "# Impute missing Quantity\n",
    "missing_quantity = df['Quantity'].isnull().sum()\n",
    "df['Quantity'] = df['Quantity'].fillna(\n",
    "    df['Total Spent'] / df['Price Per Unit']\n",
    ")\n",
    "print(f\"Imputed {missing_quantity} missing 'Quantity' values.\")"
   ]
  },
  {
   "cell_type": "code",
   "execution_count": 11,
   "id": "8f78855e",
   "metadata": {},
   "outputs": [
    {
     "name": "stdout",
     "output_type": "stream",
     "text": [
      "Dropped 58 rows with critical missing data.\n"
     ]
    }
   ],
   "source": [
    "# Drop rows with critical missing data\n",
    "critical_missing = df[['Total Spent', 'Quantity', 'Price Per Unit']].isnull().any(axis=1).sum()\n",
    "df.dropna(subset=['Total Spent', 'Quantity', 'Price Per Unit'], inplace=True)\n",
    "print(f\"Dropped {critical_missing} rows with critical missing data.\")"
   ]
  },
  {
   "cell_type": "code",
   "execution_count": 12,
   "id": "fd8a62db",
   "metadata": {},
   "outputs": [
    {
     "name": "stdout",
     "output_type": "stream",
     "text": [
      "\n",
      "Final missing values by column:\n",
      "Transaction ID         0\n",
      "Item                 963\n",
      "Quantity               0\n",
      "Price Per Unit         0\n",
      "Total Spent            0\n",
      "Payment Method      3158\n",
      "Location            3940\n",
      "Transaction Date     457\n",
      "dtype: int64\n"
     ]
    }
   ],
   "source": [
    "# Final check\n",
    "print(\"\\nFinal missing values by column:\")\n",
    "print(df.isnull().sum())"
   ]
  },
  {
   "cell_type": "markdown",
   "id": "12e58e4b",
   "metadata": {},
   "source": [
    "**How to Fill Missing Values in Item, Payment Method, and Location**\n",
    "\n",
    "1. **Use Mode Imputation**  \n",
    "   If the missing values are likely random, fill them with the *mode* (most frequent value) of the column.\n",
    "\n",
    "2. **Use \"Unknown\" as a Placeholder**  \n",
    "   If the missingness itself might be meaningful (e.g., indicates a pattern or data collection issue), replace missing values with `\"Unknown\"` to preserve and track this information.\n",
    "\n",
    "3. **Use Grouped Mode Imputation**  \n",
    "   When context matters (e.g., payment method varies by location), perform mode imputation within groups (e.g., mode of Payment Method *within each Location*) for more accurate and context-aware filling."
   ]
  },
  {
   "cell_type": "code",
   "execution_count": 13,
   "id": "0751e84b",
   "metadata": {},
   "outputs": [
    {
     "data": {
      "text/plain": [
       "Payment Method\n",
       "Digital Wallet    2280\n",
       "Credit Card       2260\n",
       "Cash              2244\n",
       "Name: count, dtype: int64"
      ]
     },
     "execution_count": 13,
     "metadata": {},
     "output_type": "execute_result"
    }
   ],
   "source": [
    "df['Payment Method'].value_counts()"
   ]
  },
  {
   "cell_type": "markdown",
   "id": "2684a4af",
   "metadata": {},
   "source": [
    "**1. **`Payment Method`** (3,158 missing values)**\n",
    "\n",
    "This is a **categorical variable** with a small set of known values (e.g., *Cash*, *Credit Card*, *Digital Wallet*).\n",
    "\n",
    "**Recommended Strategy: Fill with Mode**  \n",
    "Since the missing values are likely random and the category set is limited, replacing with the most frequent value is both safe and effective.\n",
    "\n",
    "> 💡 **Why?** The mode preserves the overall distribution and reflects the most common customer behavior.\n"
   ]
  },
  {
   "cell_type": "code",
   "execution_count": 14,
   "id": "b140aef4",
   "metadata": {},
   "outputs": [],
   "source": [
    "df['Payment Method'].fillna(df['Payment Method'].mode()[0], inplace=True)"
   ]
  },
  {
   "cell_type": "markdown",
   "id": "0cdc6784",
   "metadata": {},
   "source": [
    "**2. **`Location`** (3,940 missing values)**\n",
    "\n",
    "This may have many unique values (e.g., store branches, cities), and missingness could indicate a data collection gap.\n",
    "\n",
    "**Fill with `\"Unknown\"`**\n",
    "> ✅ Simple, transparent, and avoids introducing bias."
   ]
  },
  {
   "cell_type": "code",
   "execution_count": 15,
   "id": "f3172fd5",
   "metadata": {},
   "outputs": [],
   "source": [
    "df['Location'].fillna('Unknown', inplace=True)"
   ]
  },
  {
   "cell_type": "code",
   "execution_count": 16,
   "id": "8819fb23",
   "metadata": {},
   "outputs": [
    {
     "name": "stdout",
     "output_type": "stream",
     "text": [
      "Transaction ID        0\n",
      "Item                963\n",
      "Quantity              0\n",
      "Price Per Unit        0\n",
      "Total Spent           0\n",
      "Payment Method        0\n",
      "Location              0\n",
      "Transaction Date    457\n",
      "dtype: int64\n"
     ]
    }
   ],
   "source": [
    "print(df.isnull().sum())"
   ]
  },
  {
   "cell_type": "code",
   "execution_count": 17,
   "id": "4de7f1b8",
   "metadata": {},
   "outputs": [
    {
     "data": {
      "text/plain": [
       "Item\n",
       "Juice       1167\n",
       "Coffee      1158\n",
       "Salad       1144\n",
       "Cake        1134\n",
       "Sandwich    1122\n",
       "Smoothie    1089\n",
       "Cookie      1084\n",
       "Tea         1081\n",
       "Name: count, dtype: int64"
      ]
     },
     "execution_count": 17,
     "metadata": {},
     "output_type": "execute_result"
    }
   ],
   "source": [
    "df['Item'].value_counts()"
   ]
  },
  {
   "cell_type": "markdown",
   "id": "ff3c02e0",
   "metadata": {},
   "source": [
    "To impute missing values in the `Item` column — where each entry represents a product (e.g., *Juice*, *Coffee*, etc.) — we need to handle `NaN`s **intelligently** to avoid distorting the data distribution.\n",
    "\n",
    "Choosing the Right Strategy to impute the item nan values\n",
    "\n",
    "| Strategy                 | When to Use                                                                 | Pros & Cons |\n",
    "|--------------------------|------------------------------------------------------------------------------|-------------|\n",
    "| ⚖️ **Proportional Sampling** | ✅ Best for accurate analysis, modeling, or reporting                        | ✔️ Preserves real distribution<br>❌ Slightly more complex |\n",
    "| 🥇 **Fill with Mode**       | ✅ Acceptable for quick fixes or low-missingness scenarios                   | ✔️ Simple and fast<br>❌ Introduces bias |"
   ]
  },
  {
   "cell_type": "code",
   "execution_count": 18,
   "id": "67b0f389",
   "metadata": {},
   "outputs": [],
   "source": [
    "# Get item frequencies as probabilities\n",
    "item_distribution = df['Item'].value_counts(normalize=True)\n",
    "\n",
    "# Identify indices where Item is missing\n",
    "missing_indices = df[df['Item'].isna()].index\n",
    "\n",
    "# Randomly sample items based on their real-world proportions\n",
    "imputed_values = np.random.choice(\n",
    "    item_distribution.index,\n",
    "    size=len(missing_indices),\n",
    "    p=item_distribution.values\n",
    ")\n",
    "\n",
    "# Assign imputed values back to the DataFrame\n",
    "df.loc[missing_indices, 'Item'] = imputed_values"
   ]
  },
  {
   "cell_type": "code",
   "execution_count": 19,
   "id": "869c59f6",
   "metadata": {},
   "outputs": [
    {
     "data": {
      "text/plain": [
       "Transaction ID        0\n",
       "Item                  0\n",
       "Quantity              0\n",
       "Price Per Unit        0\n",
       "Total Spent           0\n",
       "Payment Method        0\n",
       "Location              0\n",
       "Transaction Date    457\n",
       "dtype: int64"
      ]
     },
     "execution_count": 19,
     "metadata": {},
     "output_type": "execute_result"
    }
   ],
   "source": [
    "df.isna().sum()"
   ]
  },
  {
   "cell_type": "markdown",
   "id": "e2d19f30",
   "metadata": {},
   "source": [
    "### 📅 4. Normalize Date Column\n",
    "- Convert **Transaction Date** to `datetime` type\n",
    "- If dates are missing or inconsistent:\n",
    "  - Sort by transaction date\n",
    "  - Use **forward-fill** or **backward-fill** to impute\n",
    "- Ensure all dates are in a **consistent format** recognized by pandas"
   ]
  },
  {
   "cell_type": "code",
   "execution_count": 20,
   "id": "84130f38",
   "metadata": {},
   "outputs": [],
   "source": [
    "df['Transaction Date'] = pd.to_datetime(df['Transaction Date'], errors='coerce')\n",
    "# errors='coerce' turns invalid or inconsistent formats into NaT (missing datetime)."
   ]
  },
  {
   "cell_type": "code",
   "execution_count": 21,
   "id": "db1852d4",
   "metadata": {},
   "outputs": [
    {
     "name": "stdout",
     "output_type": "stream",
     "text": [
      "Missing or invalid dates: 457\n"
     ]
    }
   ],
   "source": [
    "missing_dates = df['Transaction Date'].isna().sum()\n",
    "print(f\"Missing or invalid dates: {missing_dates}\")\n"
   ]
  },
  {
   "cell_type": "code",
   "execution_count": 22,
   "id": "ecd09284",
   "metadata": {},
   "outputs": [],
   "source": [
    "df.sort_values('Transaction Date', inplace=True)\n"
   ]
  },
  {
   "cell_type": "code",
   "execution_count": 23,
   "id": "9c2c4fe2",
   "metadata": {},
   "outputs": [],
   "source": [
    "# Impute missing dates\n",
    "df['Transaction Date'].fillna(method='ffill', inplace=True)  # or use 'bfill'"
   ]
  },
  {
   "cell_type": "code",
   "execution_count": 24,
   "id": "06f5c06a",
   "metadata": {},
   "outputs": [
    {
     "data": {
      "text/html": [
       "<div>\n",
       "<style scoped>\n",
       "    .dataframe tbody tr th:only-of-type {\n",
       "        vertical-align: middle;\n",
       "    }\n",
       "\n",
       "    .dataframe tbody tr th {\n",
       "        vertical-align: top;\n",
       "    }\n",
       "\n",
       "    .dataframe thead th {\n",
       "        text-align: right;\n",
       "    }\n",
       "</style>\n",
       "<table border=\"1\" class=\"dataframe\">\n",
       "  <thead>\n",
       "    <tr style=\"text-align: right;\">\n",
       "      <th></th>\n",
       "      <th>Transaction ID</th>\n",
       "      <th>Item</th>\n",
       "      <th>Quantity</th>\n",
       "      <th>Price Per Unit</th>\n",
       "      <th>Total Spent</th>\n",
       "      <th>Payment Method</th>\n",
       "      <th>Location</th>\n",
       "      <th>Transaction Date</th>\n",
       "    </tr>\n",
       "  </thead>\n",
       "  <tbody>\n",
       "    <tr>\n",
       "      <th>1425</th>\n",
       "      <td>TXN_8842223</td>\n",
       "      <td>Sandwich</td>\n",
       "      <td>5.0</td>\n",
       "      <td>4.0</td>\n",
       "      <td>20.0</td>\n",
       "      <td>Digital Wallet</td>\n",
       "      <td>In-store</td>\n",
       "      <td>2023-01-01</td>\n",
       "    </tr>\n",
       "    <tr>\n",
       "      <th>7309</th>\n",
       "      <td>TXN_6093955</td>\n",
       "      <td>Tea</td>\n",
       "      <td>5.0</td>\n",
       "      <td>1.5</td>\n",
       "      <td>7.5</td>\n",
       "      <td>Digital Wallet</td>\n",
       "      <td>Takeaway</td>\n",
       "      <td>2023-01-01</td>\n",
       "    </tr>\n",
       "    <tr>\n",
       "      <th>7285</th>\n",
       "      <td>TXN_1604072</td>\n",
       "      <td>Coffee</td>\n",
       "      <td>2.0</td>\n",
       "      <td>2.0</td>\n",
       "      <td>4.0</td>\n",
       "      <td>Digital Wallet</td>\n",
       "      <td>Unknown</td>\n",
       "      <td>2023-01-01</td>\n",
       "    </tr>\n",
       "    <tr>\n",
       "      <th>2726</th>\n",
       "      <td>TXN_2024598</td>\n",
       "      <td>Sandwich</td>\n",
       "      <td>1.0</td>\n",
       "      <td>4.0</td>\n",
       "      <td>4.0</td>\n",
       "      <td>Digital Wallet</td>\n",
       "      <td>In-store</td>\n",
       "      <td>2023-01-01</td>\n",
       "    </tr>\n",
       "    <tr>\n",
       "      <th>9356</th>\n",
       "      <td>TXN_2104473</td>\n",
       "      <td>Cake</td>\n",
       "      <td>3.0</td>\n",
       "      <td>3.0</td>\n",
       "      <td>9.0</td>\n",
       "      <td>Digital Wallet</td>\n",
       "      <td>Takeaway</td>\n",
       "      <td>2023-01-01</td>\n",
       "    </tr>\n",
       "  </tbody>\n",
       "</table>\n",
       "</div>"
      ],
      "text/plain": [
       "     Transaction ID      Item  Quantity  Price Per Unit  Total Spent  \\\n",
       "1425    TXN_8842223  Sandwich       5.0             4.0         20.0   \n",
       "7309    TXN_6093955       Tea       5.0             1.5          7.5   \n",
       "7285    TXN_1604072    Coffee       2.0             2.0          4.0   \n",
       "2726    TXN_2024598  Sandwich       1.0             4.0          4.0   \n",
       "9356    TXN_2104473      Cake       3.0             3.0          9.0   \n",
       "\n",
       "      Payment Method  Location Transaction Date  \n",
       "1425  Digital Wallet  In-store       2023-01-01  \n",
       "7309  Digital Wallet  Takeaway       2023-01-01  \n",
       "7285  Digital Wallet   Unknown       2023-01-01  \n",
       "2726  Digital Wallet  In-store       2023-01-01  \n",
       "9356  Digital Wallet  Takeaway       2023-01-01  "
      ]
     },
     "execution_count": 24,
     "metadata": {},
     "output_type": "execute_result"
    }
   ],
   "source": [
    "df.head()"
   ]
  },
  {
   "cell_type": "code",
   "execution_count": 25,
   "id": "96e5c071",
   "metadata": {},
   "outputs": [
    {
     "data": {
      "text/plain": [
       "Transaction ID      0\n",
       "Item                0\n",
       "Quantity            0\n",
       "Price Per Unit      0\n",
       "Total Spent         0\n",
       "Payment Method      0\n",
       "Location            0\n",
       "Transaction Date    0\n",
       "dtype: int64"
      ]
     },
     "execution_count": 25,
     "metadata": {},
     "output_type": "execute_result"
    }
   ],
   "source": [
    "df.isna().sum()"
   ]
  },
  {
   "cell_type": "markdown",
   "id": "517c4d03",
   "metadata": {},
   "source": [
    "### 🔤 5. Standardize Categorical Columns\n",
    "Clean up:\n",
    "- **Item**\n",
    "- **Payment Method**\n",
    "- **Location**\n",
    "\n",
    "✅ Normalize casing (e.g., all lowercase or uppercase)  \n",
    "✅ Strip whitespace and remove unwanted symbols  \n",
    "✅ Replace inconsistent labels with consistent ones:\n",
    "  - e.g., `\"card\"`, `\"cash\"`, `\"unknown\"`"
   ]
  },
  {
   "cell_type": "code",
   "execution_count": 26,
   "id": "284c723e",
   "metadata": {},
   "outputs": [],
   "source": [
    "# Clean Item Column\n",
    "\n",
    "# Remove leading/trailing spaces\n",
    "df['Item'] = df['Item'].str.strip()\n",
    "# Convert to lowercase\n",
    "df['Item'] = df['Item'].str.lower()\n",
    "# Remove special characters (keep only letters, numbers, and spaces)\n",
    "df['Item'] = df['Item'].str.replace(r'[^a-z0-9\\s]', '', regex=True)"
   ]
  },
  {
   "cell_type": "code",
   "execution_count": 27,
   "id": "9f38122d",
   "metadata": {},
   "outputs": [],
   "source": [
    "#  Clean Payment Method Column\n",
    "\n",
    "# Convert to string\n",
    "df['Payment Method'] = df['Payment Method'].astype(str)\n",
    "# Remove leading/trailing spaces\n",
    "df['Payment Method'] = df['Payment Method'].str.strip()\n",
    "# Convert to lowercase\n",
    "df['Payment Method'] = df['Payment Method'].str.lower()\n",
    "# Remove special characters\n",
    "df['Payment Method'] = df['Payment Method'].str.replace(r'[^a-z0-9\\s]', '', regex=True)"
   ]
  },
  {
   "cell_type": "code",
   "execution_count": 28,
   "id": "b1ea8041",
   "metadata": {},
   "outputs": [],
   "source": [
    "#  Clean Location Column\n",
    "\n",
    "# Convert to string\n",
    "df['Location'] = df['Location'].astype(str)\n",
    "# Remove leading/trailing spaces\n",
    "df['Location'] = df['Location'].str.strip()\n",
    "# Convert to lowercase\n",
    "df['Location'] = df['Location'].str.lower()\n",
    "# Remove special characters\n",
    "df['Location'] = df['Location'].str.replace(r'[^a-z0-9\\s]', '', regex=True)"
   ]
  },
  {
   "cell_type": "markdown",
   "id": "1b94398a",
   "metadata": {},
   "source": [
    "### 🚫 6. Remove Duplicates\n",
    "- Use `.drop_duplicates()` to remove duplicate transaction rows\n",
    "- Ensure **no repeated Transaction ID** values\n",
    "\n",
    "🔎 Why both steps?\n",
    "\n",
    "| Step                          | Purpose                                                              |\n",
    "| ----------------------------- | -------------------------------------------------------------------- |\n",
    "| `drop_duplicates()`           | Removes **entirely identical rows**                                  |\n",
    "| `drop_duplicates(subset=...)` | Ensures **unique identifiers** like `Transaction ID` aren’t repeated |\n"
   ]
  },
  {
   "cell_type": "code",
   "execution_count": 29,
   "id": "bf077536",
   "metadata": {},
   "outputs": [
    {
     "name": "stdout",
     "output_type": "stream",
     "text": [
      "Removed 0 fully duplicated rows.\n"
     ]
    }
   ],
   "source": [
    "# Step 1: Remove Entire Duplicate Rows\n",
    "before = df.shape[0]\n",
    "df.drop_duplicates(inplace=True)\n",
    "after = df.shape[0]\n",
    "print(f\"Removed {before - after} fully duplicated rows.\")"
   ]
  },
  {
   "cell_type": "code",
   "execution_count": 30,
   "id": "a204b3ed",
   "metadata": {},
   "outputs": [
    {
     "name": "stdout",
     "output_type": "stream",
     "text": [
      "Found 0 duplicate Transaction IDs.\n"
     ]
    }
   ],
   "source": [
    "# Step 2: Ensure No Repeated Transaction ID Values\n",
    "duplicate_ids = df['Transaction ID'].duplicated().sum()\n",
    "print(f\"Found {duplicate_ids} duplicate Transaction IDs.\")\n",
    "\n",
    "# Drop duplicates based only on Transaction ID (keep the first occurrence)\n",
    "df.drop_duplicates(subset='Transaction ID', keep='first', inplace=True)\n"
   ]
  },
  {
   "cell_type": "markdown",
   "id": "42b357a6",
   "metadata": {},
   "source": [
    "\n",
    "### 🔁 7. Type Conversion & Validation\n",
    "- Convert numeric columns to correct types:\n",
    "  - **Quantity**, **Price Per Unit**, **Total Spent** → `float` or `int`\n",
    "- Check for:\n",
    "  - ❌ Negative values\n",
    "  - ❌ Nonsensical entries (e.g., zero quantity, negative price)\n",
    "- Handle them appropriately"
   ]
  },
  {
   "cell_type": "code",
   "execution_count": 31,
   "id": "1ebe90af",
   "metadata": {},
   "outputs": [
    {
     "name": "stdout",
     "output_type": "stream",
     "text": [
      "<class 'pandas.core.frame.DataFrame'>\n",
      "Index: 9942 entries, 1425 to 9988\n",
      "Data columns (total 8 columns):\n",
      " #   Column            Non-Null Count  Dtype         \n",
      "---  ------            --------------  -----         \n",
      " 0   Transaction ID    9942 non-null   object        \n",
      " 1   Item              9942 non-null   object        \n",
      " 2   Quantity          9942 non-null   float64       \n",
      " 3   Price Per Unit    9942 non-null   float64       \n",
      " 4   Total Spent       9942 non-null   float64       \n",
      " 5   Payment Method    9942 non-null   object        \n",
      " 6   Location          9942 non-null   object        \n",
      " 7   Transaction Date  9942 non-null   datetime64[ns]\n",
      "dtypes: datetime64[ns](1), float64(3), object(4)\n",
      "memory usage: 699.0+ KB\n"
     ]
    }
   ],
   "source": [
    "df.info()"
   ]
  },
  {
   "cell_type": "code",
   "execution_count": 32,
   "id": "673722b2",
   "metadata": {},
   "outputs": [
    {
     "name": "stdout",
     "output_type": "stream",
     "text": [
      "Invalid entries — Quantity ≤ 0: 0, Price ≤ 0: 0, Total < 0: 0\n"
     ]
    }
   ],
   "source": [
    "# Check for Invalid or Nonsensical Entries\n",
    "invalid_quantity = df[df['Quantity'] <= 0].shape[0]\n",
    "invalid_price = df[df['Price Per Unit'] <= 0].shape[0]\n",
    "invalid_total = df[df['Total Spent'] < 0].shape[0]\n",
    "\n",
    "print(f\"Invalid entries — Quantity ≤ 0: {invalid_quantity}, Price ≤ 0: {invalid_price}, Total < 0: {invalid_total}\")\n"
   ]
  },
  {
   "cell_type": "markdown",
   "id": "db19b57b",
   "metadata": {},
   "source": [
    "### 📊 8. Outlier Detection (Optional)\n",
    "- Plot or calculate statistical summaries\n",
    "- Detect outliers in:\n",
    "  - **Quantity**\n",
    "  - **Total Spent**\n",
    "  - **Price Per Unit**\n",
    "- Decide: **cap, drop, or investigate** further"
   ]
  },
  {
   "cell_type": "code",
   "execution_count": 33,
   "id": "5ad245f6",
   "metadata": {},
   "outputs": [
    {
     "name": "stdout",
     "output_type": "stream",
     "text": [
      "          Quantity  Price Per Unit  Total Spent\n",
      "count  9942.000000     9942.000000  9942.000000\n",
      "mean      3.025749        2.947848     8.931855\n",
      "std       1.420438        1.279897     6.002356\n",
      "min       1.000000        1.000000     1.000000\n",
      "25%       2.000000        2.000000     4.000000\n",
      "50%       3.000000        3.000000     8.000000\n",
      "75%       4.000000        4.000000    12.000000\n",
      "max       5.000000        5.000000    25.000000\n"
     ]
    }
   ],
   "source": [
    "# Step 1: Statistical Summary & Visualization\n",
    "print(df[['Quantity', 'Price Per Unit', 'Total Spent']].describe())"
   ]
  },
  {
   "cell_type": "code",
   "execution_count": 34,
   "id": "fc034945",
   "metadata": {},
   "outputs": [
    {
     "data": {
      "image/png": "[encoded data removed]",
      "text/plain": [
       "<Figure size 600x300 with 1 Axes>"
      ]
     },
     "metadata": {},
     "output_type": "display_data"
    },
    {
     "data": {
      "image/png": "[encoded data removed]",
      "text/plain": [
       "<Figure size 600x300 with 1 Axes>"
      ]
     },
     "metadata": {},
     "output_type": "display_data"
    },
    {
     "data": {
      "image/png": "[encoded data removed]",
      "text/plain": [
       "<Figure size 600x300 with 1 Axes>"
      ]
     },
     "metadata": {},
     "output_type": "display_data"
    }
   ],
   "source": [
    "import matplotlib.pyplot as plt\n",
    "import seaborn as sns\n",
    "\n",
    "for col in ['Quantity', 'Price Per Unit', 'Total Spent']:\n",
    "    plt.figure(figsize=(6, 3))\n",
    "    sns.boxplot(x=df[col])\n",
    "    plt.title(f'Boxplot of {col}')\n",
    "    plt.show()\n"
   ]
  },
  {
   "cell_type": "markdown",
   "id": "9e448989",
   "metadata": {},
   "source": [
    "We see that from the box plot the Total Spent column is the one that has outliers"
   ]
  },
  {
   "cell_type": "code",
   "execution_count": 35,
   "id": "3736c873",
   "metadata": {},
   "outputs": [
    {
     "name": "stdout",
     "output_type": "stream",
     "text": [
      "Quantity: 0 outliers\n",
      "Price Per Unit: 0 outliers\n",
      "Total Spent: 267 outliers\n"
     ]
    }
   ],
   "source": [
    "# Step 2: Detect Outliers Using Interquartile Range (IQR) Method\n",
    "for col in ['Quantity', 'Price Per Unit', 'Total Spent']:\n",
    "    Q1 = df[col].quantile(0.25)\n",
    "    Q3 = df[col].quantile(0.75)\n",
    "    IQR = Q3 - Q1\n",
    "    lower_bound = Q1 - 1.5 * IQR\n",
    "    upper_bound = Q3 + 1.5 * IQR\n",
    "\n",
    "    outliers = df[(df[col] < lower_bound) | (df[col] > upper_bound)].shape[0]\n",
    "    print(f\"{col}: {outliers} outliers\")\n"
   ]
  },
  {
   "cell_type": "markdown",
   "id": "b30ec456",
   "metadata": {},
   "source": [
    "**Step 3: Handle Outliers — Options**\n",
    "\n",
    "| Option              | When to Use                                                 | How to Apply                                                   |\n",
    "| ------------------- | ----------------------------------------------------------- | -------------------------------------------------------------- |\n",
    "| **Drop**            | If the outliers are likely data errors or unrealistic       | `df = df[(df[col] >= lower_bound) & (df[col] <= upper_bound)]` |\n",
    "| **Cap (Winsorize)** | If you want to reduce impact but keep them                  | Replace outliers with boundaries                               |\n",
    "| **Investigate**     | If the values could be real but extreme (e.g., bulk orders) | Mark or review them before deciding                            |\n"
   ]
  },
  {
   "cell_type": "code",
   "execution_count": 36,
   "id": "5d17f0ef",
   "metadata": {},
   "outputs": [],
   "source": [
    "# Cap (Winsorize)\n",
    "df['Total Spent'] = df['Total Spent'].clip(lower=lower_bound, upper=upper_bound)"
   ]
  },
  {
   "cell_type": "markdown",
   "id": "a3321864",
   "metadata": {},
   "source": [
    "### ⚙️ 9. Feature Engineering & Derived Columns\n",
    "Optionally create new features:\n",
    "- **Revenue per Transaction** (= Total Spent)\n",
    "- **Month**, **Weekday**, or **Hour** from Transaction Date\n",
    "- Grouped features like:\n",
    "  - `avg_price_per_item`\n",
    "  - `location_category`\n",
    "\n",
    "💡 **Feel free to add your own ideas!** That would be great! 🎉"
   ]
  },
  {
   "cell_type": "code",
   "execution_count": 37,
   "id": "2073b64a",
   "metadata": {},
   "outputs": [],
   "source": [
    "# Date-based Features (from Transaction Date)\n",
    "df['Month'] = df['Transaction Date'].dt.month\n",
    "df['Weekday'] = df['Transaction Date'].dt.day_name()\n",
    "df['Hour'] = df['Transaction Date'].dt.hour"
   ]
  },
  {
   "cell_type": "code",
   "execution_count": 38,
   "id": "ccfc5077",
   "metadata": {},
   "outputs": [],
   "source": [
    "# Price per Item Group \n",
    "df['Avg Price per Item'] = df.groupby('Item')['Price Per Unit'].transform('mean')"
   ]
  },
  {
   "cell_type": "code",
   "execution_count": 39,
   "id": "a1ac21af",
   "metadata": {},
   "outputs": [],
   "source": [
    "# Price Diff from Avg Detect if a price is above/below the average per item\t\n",
    "df['Price Diff'] = df['Price Per Unit'] - df['Avg Price per Item']"
   ]
  },
  {
   "cell_type": "code",
   "execution_count": 40,
   "id": "a63c9a4b",
   "metadata": {},
   "outputs": [],
   "source": [
    "# Is Weekend Helps analyze behavior on weekends\t\n",
    "df['Is Weekend'] = df['Weekday'].isin(['Saturday', 'Friday'])"
   ]
  },
  {
   "cell_type": "code",
   "execution_count": 41,
   "id": "61e553ac",
   "metadata": {},
   "outputs": [],
   "source": [
    "# High Revenue Flag\tFlags big purchases for analysis\t\n",
    "df['High Revenue'] = df['Total Spent'] > df['Total Spent'].quantile(0.90)"
   ]
  },
  {
   "cell_type": "code",
   "execution_count": 42,
   "id": "4d7f793c",
   "metadata": {},
   "outputs": [
    {
     "data": {
      "text/html": [
       "<div>\n",
       "<style scoped>\n",
       "    .dataframe tbody tr th:only-of-type {\n",
       "        vertical-align: middle;\n",
       "    }\n",
       "\n",
       "    .dataframe tbody tr th {\n",
       "        vertical-align: top;\n",
       "    }\n",
       "\n",
       "    .dataframe thead th {\n",
       "        text-align: right;\n",
       "    }\n",
       "</style>\n",
       "<table border=\"1\" class=\"dataframe\">\n",
       "  <thead>\n",
       "    <tr style=\"text-align: right;\">\n",
       "      <th></th>\n",
       "      <th>Transaction ID</th>\n",
       "      <th>Item</th>\n",
       "      <th>Quantity</th>\n",
       "      <th>Price Per Unit</th>\n",
       "      <th>Total Spent</th>\n",
       "      <th>Payment Method</th>\n",
       "      <th>Location</th>\n",
       "      <th>Transaction Date</th>\n",
       "      <th>Month</th>\n",
       "      <th>Weekday</th>\n",
       "      <th>Hour</th>\n",
       "      <th>Avg Price per Item</th>\n",
       "      <th>Price Diff</th>\n",
       "      <th>Is Weekend</th>\n",
       "      <th>High Revenue</th>\n",
       "    </tr>\n",
       "  </thead>\n",
       "  <tbody>\n",
       "    <tr>\n",
       "      <th>1425</th>\n",
       "      <td>TXN_8842223</td>\n",
       "      <td>sandwich</td>\n",
       "      <td>5.0</td>\n",
       "      <td>4.0</td>\n",
       "      <td>20.0</td>\n",
       "      <td>digital wallet</td>\n",
       "      <td>instore</td>\n",
       "      <td>2023-01-01</td>\n",
       "      <td>1</td>\n",
       "      <td>Sunday</td>\n",
       "      <td>0</td>\n",
       "      <td>3.890176</td>\n",
       "      <td>0.109824</td>\n",
       "      <td>False</td>\n",
       "      <td>False</td>\n",
       "    </tr>\n",
       "    <tr>\n",
       "      <th>7309</th>\n",
       "      <td>TXN_6093955</td>\n",
       "      <td>tea</td>\n",
       "      <td>5.0</td>\n",
       "      <td>1.5</td>\n",
       "      <td>7.5</td>\n",
       "      <td>digital wallet</td>\n",
       "      <td>takeaway</td>\n",
       "      <td>2023-01-01</td>\n",
       "      <td>1</td>\n",
       "      <td>Sunday</td>\n",
       "      <td>0</td>\n",
       "      <td>1.658717</td>\n",
       "      <td>-0.158717</td>\n",
       "      <td>False</td>\n",
       "      <td>False</td>\n",
       "    </tr>\n",
       "    <tr>\n",
       "      <th>7285</th>\n",
       "      <td>TXN_1604072</td>\n",
       "      <td>coffee</td>\n",
       "      <td>2.0</td>\n",
       "      <td>2.0</td>\n",
       "      <td>4.0</td>\n",
       "      <td>digital wallet</td>\n",
       "      <td>unknown</td>\n",
       "      <td>2023-01-01</td>\n",
       "      <td>1</td>\n",
       "      <td>Sunday</td>\n",
       "      <td>0</td>\n",
       "      <td>2.084706</td>\n",
       "      <td>-0.084706</td>\n",
       "      <td>False</td>\n",
       "      <td>False</td>\n",
       "    </tr>\n",
       "    <tr>\n",
       "      <th>2726</th>\n",
       "      <td>TXN_2024598</td>\n",
       "      <td>sandwich</td>\n",
       "      <td>1.0</td>\n",
       "      <td>4.0</td>\n",
       "      <td>4.0</td>\n",
       "      <td>digital wallet</td>\n",
       "      <td>instore</td>\n",
       "      <td>2023-01-01</td>\n",
       "      <td>1</td>\n",
       "      <td>Sunday</td>\n",
       "      <td>0</td>\n",
       "      <td>3.890176</td>\n",
       "      <td>0.109824</td>\n",
       "      <td>False</td>\n",
       "      <td>False</td>\n",
       "    </tr>\n",
       "    <tr>\n",
       "      <th>9356</th>\n",
       "      <td>TXN_2104473</td>\n",
       "      <td>cake</td>\n",
       "      <td>3.0</td>\n",
       "      <td>3.0</td>\n",
       "      <td>9.0</td>\n",
       "      <td>digital wallet</td>\n",
       "      <td>takeaway</td>\n",
       "      <td>2023-01-01</td>\n",
       "      <td>1</td>\n",
       "      <td>Sunday</td>\n",
       "      <td>0</td>\n",
       "      <td>2.987159</td>\n",
       "      <td>0.012841</td>\n",
       "      <td>False</td>\n",
       "      <td>False</td>\n",
       "    </tr>\n",
       "  </tbody>\n",
       "</table>\n",
       "</div>"
      ],
      "text/plain": [
       "     Transaction ID      Item  Quantity  Price Per Unit  Total Spent  \\\n",
       "1425    TXN_8842223  sandwich       5.0             4.0         20.0   \n",
       "7309    TXN_6093955       tea       5.0             1.5          7.5   \n",
       "7285    TXN_1604072    coffee       2.0             2.0          4.0   \n",
       "2726    TXN_2024598  sandwich       1.0             4.0          4.0   \n",
       "9356    TXN_2104473      cake       3.0             3.0          9.0   \n",
       "\n",
       "      Payment Method  Location Transaction Date  Month Weekday  Hour  \\\n",
       "1425  digital wallet   instore       2023-01-01      1  Sunday     0   \n",
       "7309  digital wallet  takeaway       2023-01-01      1  Sunday     0   \n",
       "7285  digital wallet   unknown       2023-01-01      1  Sunday     0   \n",
       "2726  digital wallet   instore       2023-01-01      1  Sunday     0   \n",
       "9356  digital wallet  takeaway       2023-01-01      1  Sunday     0   \n",
       "\n",
       "      Avg Price per Item  Price Diff  Is Weekend  High Revenue  \n",
       "1425            3.890176    0.109824       False         False  \n",
       "7309            1.658717   -0.158717       False         False  \n",
       "7285            2.084706   -0.084706       False         False  \n",
       "2726            3.890176    0.109824       False         False  \n",
       "9356            2.987159    0.012841       False         False  "
      ]
     },
     "execution_count": 42,
     "metadata": {},
     "output_type": "execute_result"
    }
   ],
   "source": [
    "df.head()"
   ]
  },
  {
   "cell_type": "code",
   "execution_count": 43,
   "id": "8d37dc5d",
   "metadata": {},
   "outputs": [
    {
     "data": {
      "text/html": [
       "<div>\n",
       "<style scoped>\n",
       "    .dataframe tbody tr th:only-of-type {\n",
       "        vertical-align: middle;\n",
       "    }\n",
       "\n",
       "    .dataframe tbody tr th {\n",
       "        vertical-align: top;\n",
       "    }\n",
       "\n",
       "    .dataframe thead th {\n",
       "        text-align: right;\n",
       "    }\n",
       "</style>\n",
       "<table border=\"1\" class=\"dataframe\">\n",
       "  <thead>\n",
       "    <tr style=\"text-align: right;\">\n",
       "      <th></th>\n",
       "      <th>Transaction ID</th>\n",
       "      <th>Item</th>\n",
       "      <th>Quantity</th>\n",
       "      <th>Price Per Unit</th>\n",
       "      <th>Total Spent</th>\n",
       "      <th>Payment Method</th>\n",
       "      <th>Location</th>\n",
       "      <th>Transaction Date</th>\n",
       "      <th>Month</th>\n",
       "      <th>Weekday</th>\n",
       "      <th>Hour</th>\n",
       "      <th>Avg Price per Item</th>\n",
       "      <th>Price Diff</th>\n",
       "      <th>Is Weekend</th>\n",
       "      <th>High Revenue</th>\n",
       "    </tr>\n",
       "  </thead>\n",
       "  <tbody>\n",
       "    <tr>\n",
       "      <th>9933</th>\n",
       "      <td>TXN_9460419</td>\n",
       "      <td>cake</td>\n",
       "      <td>1.0</td>\n",
       "      <td>3.0</td>\n",
       "      <td>3.0</td>\n",
       "      <td>digital wallet</td>\n",
       "      <td>takeaway</td>\n",
       "      <td>2023-12-31</td>\n",
       "      <td>12</td>\n",
       "      <td>Sunday</td>\n",
       "      <td>0</td>\n",
       "      <td>2.987159</td>\n",
       "      <td>0.012841</td>\n",
       "      <td>False</td>\n",
       "      <td>False</td>\n",
       "    </tr>\n",
       "    <tr>\n",
       "      <th>9937</th>\n",
       "      <td>TXN_8253472</td>\n",
       "      <td>cake</td>\n",
       "      <td>1.0</td>\n",
       "      <td>3.0</td>\n",
       "      <td>3.0</td>\n",
       "      <td>digital wallet</td>\n",
       "      <td>unknown</td>\n",
       "      <td>2023-12-31</td>\n",
       "      <td>12</td>\n",
       "      <td>Sunday</td>\n",
       "      <td>0</td>\n",
       "      <td>2.987159</td>\n",
       "      <td>0.012841</td>\n",
       "      <td>False</td>\n",
       "      <td>False</td>\n",
       "    </tr>\n",
       "    <tr>\n",
       "      <th>9949</th>\n",
       "      <td>TXN_3130865</td>\n",
       "      <td>juice</td>\n",
       "      <td>3.0</td>\n",
       "      <td>3.0</td>\n",
       "      <td>9.0</td>\n",
       "      <td>digital wallet</td>\n",
       "      <td>instore</td>\n",
       "      <td>2023-12-31</td>\n",
       "      <td>12</td>\n",
       "      <td>Sunday</td>\n",
       "      <td>0</td>\n",
       "      <td>3.002705</td>\n",
       "      <td>-0.002705</td>\n",
       "      <td>False</td>\n",
       "      <td>False</td>\n",
       "    </tr>\n",
       "    <tr>\n",
       "      <th>9983</th>\n",
       "      <td>TXN_9226047</td>\n",
       "      <td>smoothie</td>\n",
       "      <td>3.0</td>\n",
       "      <td>4.0</td>\n",
       "      <td>12.0</td>\n",
       "      <td>cash</td>\n",
       "      <td>unknown</td>\n",
       "      <td>2023-12-31</td>\n",
       "      <td>12</td>\n",
       "      <td>Sunday</td>\n",
       "      <td>0</td>\n",
       "      <td>3.894912</td>\n",
       "      <td>0.105088</td>\n",
       "      <td>False</td>\n",
       "      <td>False</td>\n",
       "    </tr>\n",
       "    <tr>\n",
       "      <th>9988</th>\n",
       "      <td>TXN_9594133</td>\n",
       "      <td>cake</td>\n",
       "      <td>5.0</td>\n",
       "      <td>3.0</td>\n",
       "      <td>15.0</td>\n",
       "      <td>digital wallet</td>\n",
       "      <td>unknown</td>\n",
       "      <td>2023-12-31</td>\n",
       "      <td>12</td>\n",
       "      <td>Sunday</td>\n",
       "      <td>0</td>\n",
       "      <td>2.987159</td>\n",
       "      <td>0.012841</td>\n",
       "      <td>False</td>\n",
       "      <td>False</td>\n",
       "    </tr>\n",
       "  </tbody>\n",
       "</table>\n",
       "</div>"
      ],
      "text/plain": [
       "     Transaction ID      Item  Quantity  Price Per Unit  Total Spent  \\\n",
       "9933    TXN_9460419      cake       1.0             3.0          3.0   \n",
       "9937    TXN_8253472      cake       1.0             3.0          3.0   \n",
       "9949    TXN_3130865     juice       3.0             3.0          9.0   \n",
       "9983    TXN_9226047  smoothie       3.0             4.0         12.0   \n",
       "9988    TXN_9594133      cake       5.0             3.0         15.0   \n",
       "\n",
       "      Payment Method  Location Transaction Date  Month Weekday  Hour  \\\n",
       "9933  digital wallet  takeaway       2023-12-31     12  Sunday     0   \n",
       "9937  digital wallet   unknown       2023-12-31     12  Sunday     0   \n",
       "9949  digital wallet   instore       2023-12-31     12  Sunday     0   \n",
       "9983            cash   unknown       2023-12-31     12  Sunday     0   \n",
       "9988  digital wallet   unknown       2023-12-31     12  Sunday     0   \n",
       "\n",
       "      Avg Price per Item  Price Diff  Is Weekend  High Revenue  \n",
       "9933            2.987159    0.012841       False         False  \n",
       "9937            2.987159    0.012841       False         False  \n",
       "9949            3.002705   -0.002705       False         False  \n",
       "9983            3.894912    0.105088       False         False  \n",
       "9988            2.987159    0.012841       False         False  "
      ]
     },
     "execution_count": 43,
     "metadata": {},
     "output_type": "execute_result"
    }
   ],
   "source": [
    "df.tail()"
   ]
  },
  {
   "cell_type": "code",
   "execution_count": 44,
   "id": "832b1101",
   "metadata": {},
   "outputs": [],
   "source": [
    "# Step 1: Reset the current index (if it's not default already)\n",
    "df.reset_index(drop=True, inplace=True)\n",
    "# Step 2: Set 'Transaction ID' as the new index\n",
    "df.set_index('Transaction ID', inplace=True)"
   ]
  },
  {
   "cell_type": "code",
   "execution_count": 45,
   "id": "be41e5a2",
   "metadata": {},
   "outputs": [
    {
     "name": "stdout",
     "output_type": "stream",
     "text": [
      "Transaction ID\n"
     ]
    }
   ],
   "source": [
    "print(df.index.name)  # Should print: Transaction ID"
   ]
  },
  {
   "cell_type": "code",
   "execution_count": 46,
   "id": "7e49de90",
   "metadata": {},
   "outputs": [
    {
     "data": {
      "text/html": [
       "<div>\n",
       "<style scoped>\n",
       "    .dataframe tbody tr th:only-of-type {\n",
       "        vertical-align: middle;\n",
       "    }\n",
       "\n",
       "    .dataframe tbody tr th {\n",
       "        vertical-align: top;\n",
       "    }\n",
       "\n",
       "    .dataframe thead th {\n",
       "        text-align: right;\n",
       "    }\n",
       "</style>\n",
       "<table border=\"1\" class=\"dataframe\">\n",
       "  <thead>\n",
       "    <tr style=\"text-align: right;\">\n",
       "      <th></th>\n",
       "      <th>Item</th>\n",
       "      <th>Quantity</th>\n",
       "      <th>Price Per Unit</th>\n",
       "      <th>Total Spent</th>\n",
       "      <th>Payment Method</th>\n",
       "      <th>Location</th>\n",
       "      <th>Transaction Date</th>\n",
       "      <th>Month</th>\n",
       "      <th>Weekday</th>\n",
       "      <th>Hour</th>\n",
       "      <th>Avg Price per Item</th>\n",
       "      <th>Price Diff</th>\n",
       "      <th>Is Weekend</th>\n",
       "      <th>High Revenue</th>\n",
       "    </tr>\n",
       "    <tr>\n",
       "      <th>Transaction ID</th>\n",
       "      <th></th>\n",
       "      <th></th>\n",
       "      <th></th>\n",
       "      <th></th>\n",
       "      <th></th>\n",
       "      <th></th>\n",
       "      <th></th>\n",
       "      <th></th>\n",
       "      <th></th>\n",
       "      <th></th>\n",
       "      <th></th>\n",
       "      <th></th>\n",
       "      <th></th>\n",
       "      <th></th>\n",
       "    </tr>\n",
       "  </thead>\n",
       "  <tbody>\n",
       "    <tr>\n",
       "      <th>TXN_8842223</th>\n",
       "      <td>sandwich</td>\n",
       "      <td>5.0</td>\n",
       "      <td>4.0</td>\n",
       "      <td>20.0</td>\n",
       "      <td>digital wallet</td>\n",
       "      <td>instore</td>\n",
       "      <td>2023-01-01</td>\n",
       "      <td>1</td>\n",
       "      <td>Sunday</td>\n",
       "      <td>0</td>\n",
       "      <td>3.890176</td>\n",
       "      <td>0.109824</td>\n",
       "      <td>False</td>\n",
       "      <td>False</td>\n",
       "    </tr>\n",
       "    <tr>\n",
       "      <th>TXN_6093955</th>\n",
       "      <td>tea</td>\n",
       "      <td>5.0</td>\n",
       "      <td>1.5</td>\n",
       "      <td>7.5</td>\n",
       "      <td>digital wallet</td>\n",
       "      <td>takeaway</td>\n",
       "      <td>2023-01-01</td>\n",
       "      <td>1</td>\n",
       "      <td>Sunday</td>\n",
       "      <td>0</td>\n",
       "      <td>1.658717</td>\n",
       "      <td>-0.158717</td>\n",
       "      <td>False</td>\n",
       "      <td>False</td>\n",
       "    </tr>\n",
       "    <tr>\n",
       "      <th>TXN_1604072</th>\n",
       "      <td>coffee</td>\n",
       "      <td>2.0</td>\n",
       "      <td>2.0</td>\n",
       "      <td>4.0</td>\n",
       "      <td>digital wallet</td>\n",
       "      <td>unknown</td>\n",
       "      <td>2023-01-01</td>\n",
       "      <td>1</td>\n",
       "      <td>Sunday</td>\n",
       "      <td>0</td>\n",
       "      <td>2.084706</td>\n",
       "      <td>-0.084706</td>\n",
       "      <td>False</td>\n",
       "      <td>False</td>\n",
       "    </tr>\n",
       "    <tr>\n",
       "      <th>TXN_2024598</th>\n",
       "      <td>sandwich</td>\n",
       "      <td>1.0</td>\n",
       "      <td>4.0</td>\n",
       "      <td>4.0</td>\n",
       "      <td>digital wallet</td>\n",
       "      <td>instore</td>\n",
       "      <td>2023-01-01</td>\n",
       "      <td>1</td>\n",
       "      <td>Sunday</td>\n",
       "      <td>0</td>\n",
       "      <td>3.890176</td>\n",
       "      <td>0.109824</td>\n",
       "      <td>False</td>\n",
       "      <td>False</td>\n",
       "    </tr>\n",
       "    <tr>\n",
       "      <th>TXN_2104473</th>\n",
       "      <td>cake</td>\n",
       "      <td>3.0</td>\n",
       "      <td>3.0</td>\n",
       "      <td>9.0</td>\n",
       "      <td>digital wallet</td>\n",
       "      <td>takeaway</td>\n",
       "      <td>2023-01-01</td>\n",
       "      <td>1</td>\n",
       "      <td>Sunday</td>\n",
       "      <td>0</td>\n",
       "      <td>2.987159</td>\n",
       "      <td>0.012841</td>\n",
       "      <td>False</td>\n",
       "      <td>False</td>\n",
       "    </tr>\n",
       "  </tbody>\n",
       "</table>\n",
       "</div>"
      ],
      "text/plain": [
       "                    Item  Quantity  Price Per Unit  Total Spent  \\\n",
       "Transaction ID                                                    \n",
       "TXN_8842223     sandwich       5.0             4.0         20.0   \n",
       "TXN_6093955          tea       5.0             1.5          7.5   \n",
       "TXN_1604072       coffee       2.0             2.0          4.0   \n",
       "TXN_2024598     sandwich       1.0             4.0          4.0   \n",
       "TXN_2104473         cake       3.0             3.0          9.0   \n",
       "\n",
       "                Payment Method  Location Transaction Date  Month Weekday  \\\n",
       "Transaction ID                                                             \n",
       "TXN_8842223     digital wallet   instore       2023-01-01      1  Sunday   \n",
       "TXN_6093955     digital wallet  takeaway       2023-01-01      1  Sunday   \n",
       "TXN_1604072     digital wallet   unknown       2023-01-01      1  Sunday   \n",
       "TXN_2024598     digital wallet   instore       2023-01-01      1  Sunday   \n",
       "TXN_2104473     digital wallet  takeaway       2023-01-01      1  Sunday   \n",
       "\n",
       "                Hour  Avg Price per Item  Price Diff  Is Weekend  High Revenue  \n",
       "Transaction ID                                                                  \n",
       "TXN_8842223        0            3.890176    0.109824       False         False  \n",
       "TXN_6093955        0            1.658717   -0.158717       False         False  \n",
       "TXN_1604072        0            2.084706   -0.084706       False         False  \n",
       "TXN_2024598        0            3.890176    0.109824       False         False  \n",
       "TXN_2104473        0            2.987159    0.012841       False         False  "
      ]
     },
     "execution_count": 46,
     "metadata": {},
     "output_type": "execute_result"
    }
   ],
   "source": [
    "df.head()"
   ]
  },
  {
   "cell_type": "code",
   "execution_count": 47,
   "id": "01db176c",
   "metadata": {},
   "outputs": [
    {
     "data": {
      "text/html": [
       "<div>\n",
       "<style scoped>\n",
       "    .dataframe tbody tr th:only-of-type {\n",
       "        vertical-align: middle;\n",
       "    }\n",
       "\n",
       "    .dataframe tbody tr th {\n",
       "        vertical-align: top;\n",
       "    }\n",
       "\n",
       "    .dataframe thead th {\n",
       "        text-align: right;\n",
       "    }\n",
       "</style>\n",
       "<table border=\"1\" class=\"dataframe\">\n",
       "  <thead>\n",
       "    <tr style=\"text-align: right;\">\n",
       "      <th></th>\n",
       "      <th>Transaction ID</th>\n",
       "      <th>Item</th>\n",
       "      <th>Quantity</th>\n",
       "      <th>Price Per Unit</th>\n",
       "      <th>Total Spent</th>\n",
       "      <th>Payment Method</th>\n",
       "      <th>Location</th>\n",
       "      <th>Transaction Date</th>\n",
       "      <th>Month</th>\n",
       "      <th>Weekday</th>\n",
       "      <th>Hour</th>\n",
       "      <th>Avg Price per Item</th>\n",
       "      <th>Price Diff</th>\n",
       "      <th>Is Weekend</th>\n",
       "      <th>High Revenue</th>\n",
       "    </tr>\n",
       "  </thead>\n",
       "  <tbody>\n",
       "    <tr>\n",
       "      <th>0</th>\n",
       "      <td>TXN_8842223</td>\n",
       "      <td>sandwich</td>\n",
       "      <td>5.0</td>\n",
       "      <td>4.0</td>\n",
       "      <td>20.0</td>\n",
       "      <td>digital wallet</td>\n",
       "      <td>instore</td>\n",
       "      <td>2023-01-01</td>\n",
       "      <td>1</td>\n",
       "      <td>Sunday</td>\n",
       "      <td>0</td>\n",
       "      <td>3.890176</td>\n",
       "      <td>0.109824</td>\n",
       "      <td>False</td>\n",
       "      <td>False</td>\n",
       "    </tr>\n",
       "    <tr>\n",
       "      <th>1</th>\n",
       "      <td>TXN_6093955</td>\n",
       "      <td>tea</td>\n",
       "      <td>5.0</td>\n",
       "      <td>1.5</td>\n",
       "      <td>7.5</td>\n",
       "      <td>digital wallet</td>\n",
       "      <td>takeaway</td>\n",
       "      <td>2023-01-01</td>\n",
       "      <td>1</td>\n",
       "      <td>Sunday</td>\n",
       "      <td>0</td>\n",
       "      <td>1.658717</td>\n",
       "      <td>-0.158717</td>\n",
       "      <td>False</td>\n",
       "      <td>False</td>\n",
       "    </tr>\n",
       "    <tr>\n",
       "      <th>2</th>\n",
       "      <td>TXN_1604072</td>\n",
       "      <td>coffee</td>\n",
       "      <td>2.0</td>\n",
       "      <td>2.0</td>\n",
       "      <td>4.0</td>\n",
       "      <td>digital wallet</td>\n",
       "      <td>unknown</td>\n",
       "      <td>2023-01-01</td>\n",
       "      <td>1</td>\n",
       "      <td>Sunday</td>\n",
       "      <td>0</td>\n",
       "      <td>2.084706</td>\n",
       "      <td>-0.084706</td>\n",
       "      <td>False</td>\n",
       "      <td>False</td>\n",
       "    </tr>\n",
       "    <tr>\n",
       "      <th>3</th>\n",
       "      <td>TXN_2024598</td>\n",
       "      <td>sandwich</td>\n",
       "      <td>1.0</td>\n",
       "      <td>4.0</td>\n",
       "      <td>4.0</td>\n",
       "      <td>digital wallet</td>\n",
       "      <td>instore</td>\n",
       "      <td>2023-01-01</td>\n",
       "      <td>1</td>\n",
       "      <td>Sunday</td>\n",
       "      <td>0</td>\n",
       "      <td>3.890176</td>\n",
       "      <td>0.109824</td>\n",
       "      <td>False</td>\n",
       "      <td>False</td>\n",
       "    </tr>\n",
       "    <tr>\n",
       "      <th>4</th>\n",
       "      <td>TXN_2104473</td>\n",
       "      <td>cake</td>\n",
       "      <td>3.0</td>\n",
       "      <td>3.0</td>\n",
       "      <td>9.0</td>\n",
       "      <td>digital wallet</td>\n",
       "      <td>takeaway</td>\n",
       "      <td>2023-01-01</td>\n",
       "      <td>1</td>\n",
       "      <td>Sunday</td>\n",
       "      <td>0</td>\n",
       "      <td>2.987159</td>\n",
       "      <td>0.012841</td>\n",
       "      <td>False</td>\n",
       "      <td>False</td>\n",
       "    </tr>\n",
       "  </tbody>\n",
       "</table>\n",
       "</div>"
      ],
      "text/plain": [
       "  Transaction ID      Item  Quantity  Price Per Unit  Total Spent  \\\n",
       "0    TXN_8842223  sandwich       5.0             4.0         20.0   \n",
       "1    TXN_6093955       tea       5.0             1.5          7.5   \n",
       "2    TXN_1604072    coffee       2.0             2.0          4.0   \n",
       "3    TXN_2024598  sandwich       1.0             4.0          4.0   \n",
       "4    TXN_2104473      cake       3.0             3.0          9.0   \n",
       "\n",
       "   Payment Method  Location Transaction Date  Month Weekday  Hour  \\\n",
       "0  digital wallet   instore       2023-01-01      1  Sunday     0   \n",
       "1  digital wallet  takeaway       2023-01-01      1  Sunday     0   \n",
       "2  digital wallet   unknown       2023-01-01      1  Sunday     0   \n",
       "3  digital wallet   instore       2023-01-01      1  Sunday     0   \n",
       "4  digital wallet  takeaway       2023-01-01      1  Sunday     0   \n",
       "\n",
       "   Avg Price per Item  Price Diff  Is Weekend  High Revenue  \n",
       "0            3.890176    0.109824       False         False  \n",
       "1            1.658717   -0.158717       False         False  \n",
       "2            2.084706   -0.084706       False         False  \n",
       "3            3.890176    0.109824       False         False  \n",
       "4            2.987159    0.012841       False         False  "
      ]
     },
     "execution_count": 47,
     "metadata": {},
     "output_type": "execute_result"
    }
   ],
   "source": [
    "df.reset_index(inplace=True)  # 'Transaction ID' becomes a column again\n",
    "df.head()"
   ]
  }
 ],
 "metadata": {
  "kernelspec": {
   "display_name": "konecta",
   "language": "python",
   "name": "python3"
  },
  "language_info": {
   "codemirror_mode": {
    "name": "ipython",
    "version": 3
   },
   "file_extension": ".py",
   "mimetype": "text/x-python",
   "name": "python",
   "nbconvert_exporter": "python",
   "pygments_lexer": "ipython3",
   "version": "3.11.5"
  }
 },
 "nbformat": 4,
 "nbformat_minor": 5
}
